{
 "cells": [
  {
   "cell_type": "code",
   "execution_count": 1,
   "metadata": {},
   "outputs": [],
   "source": [
    "from ipywidgets import interact\n",
    "%matplotlib notebook\n",
    "%display latex"
   ]
  },
  {
   "cell_type": "code",
   "execution_count": 12,
   "metadata": {},
   "outputs": [],
   "source": [
    "def mu(v0,v1,*_):\n",
    "    \"\"\"\n",
    "    Returns Mumford slope for Chern character given by arguments\n",
    "    \n",
    "    Parameters:\n",
    "    - ch_0\n",
    "    - ch_1\n",
    "    ... [can include further terms which will be ignored]\n",
    "    \n",
    "    Usage example:\n",
    "    >>> mu(1,2,1)\n",
    "    2\n",
    "    \"\"\"\n",
    "    return v1/v0\n",
    "\n",
    "def Q_tilt(v0,v1,v2,*_):\n",
    "    \"\"\"\n",
    "    Returns the bogomolov form $Q^{\\\\mathrm{tilt}}$\n",
    "    evaluated on given Chern character\n",
    "        \n",
    "    Parameters:\n",
    "    - ch_0\n",
    "    - ch_1\n",
    "    - ch_2\n",
    "    ... [can include further terms which will be ignored]\n",
    "    \n",
    "    Usage example:\n",
    "    >>> Q_tilt(1,2,1)\n",
    "    2\n",
    "    \"\"\"\n",
    "    return v1**2 - 2*v0*v2\n"
   ]
  },
  {
   "cell_type": "code",
   "execution_count": 3,
   "metadata": {},
   "outputs": [],
   "source": [
    "var(\"v0 v1 v2 v3\")\n",
    "v = v0,v1,v2,v3\n",
    "var(\"s alpha beta\")\n",
    "\n",
    "Theta = lambda *v: \\\n",
    "        lambda alpha, beta, s: \\\n",
    "         (beta - mu(*v))**2 - alpha**2 - Q_tilt(*v)\n",
    "\n",
    "def Theta_minus_param(t,*v):\n",
    "    Q = Q_tilt(*v)\n",
    "    beta = mu(*v) - cosh(t)*sqrt(Q)\n",
    "    alpha = sinh(t)*sqrt(Q)\n",
    "    return alpha,beta\n",
    "\n",
    "def Theta_plus_param(t,*v):\n",
    "    Q = Q_tilt(*v)\n",
    "    beta = mu(*v) + cosh(t)*sqrt(Q)\n",
    "    alpha = sinh(t)*sqrt(Q)\n",
    "    return alpha,beta\n",
    "\n",
    "\n",
    "Gamma = lambda v0,v1,v2,v3: \\\n",
    "        lambda alpha, beta, s: \\\n",
    "         v0*beta**3 - 3*v1*beta**2 + (6*v2-(6*s+1)*v0*alpha**2)*beta \\\n",
    "         +((6*s+1)*v1*alpha**2 - 6*v3)"
   ]
  },
  {
   "cell_type": "markdown",
   "metadata": {},
   "source": [
    "# Example with $v=(1,0,-1,1)$"
   ]
  },
  {
   "cell_type": "code",
   "execution_count": 4,
   "metadata": {},
   "outputs": [],
   "source": [
    "stab = alpha, beta, s\n",
    "v = 1,0,-1,1"
   ]
  },
  {
   "cell_type": "markdown",
   "metadata": {},
   "source": [
    "Expression for $\\Theta_v$ curve:"
   ]
  },
  {
   "cell_type": "code",
   "execution_count": 5,
   "metadata": {},
   "outputs": [
    {
     "data": {
      "text/html": [
       "<html><script type=\"math/tex; mode=display\">\\newcommand{\\Bold}[1]{\\mathbf{#1}}-\\alpha^{2} + \\beta^{2} - 2</script></html>"
      ],
      "text/latex": [
       "$$\\newcommand{\\Bold}[1]{\\mathbf{#1}}-\\alpha^{2} + \\beta^{2} - 2$$"
      ],
      "text/plain": [
       "-alpha^2 + beta^2 - 2"
      ]
     },
     "execution_count": 5,
     "metadata": {},
     "output_type": "execute_result"
    }
   ],
   "source": [
    "Theta(*v)(*stab)"
   ]
  },
  {
   "cell_type": "markdown",
   "metadata": {},
   "source": [
    "Expression for $\\Gamma_v$ curve:"
   ]
  },
  {
   "cell_type": "code",
   "execution_count": 6,
   "metadata": {},
   "outputs": [
    {
     "data": {
      "text/html": [
       "<html><script type=\"math/tex; mode=display\">\\newcommand{\\Bold}[1]{\\mathbf{#1}}\\beta^{3} - {\\left(\\alpha^{2} {\\left(6 \\, s + 1\\right)} + 6\\right)} \\beta - 6</script></html>"
      ],
      "text/latex": [
       "$$\\newcommand{\\Bold}[1]{\\mathbf{#1}}\\beta^{3} - {\\left(\\alpha^{2} {\\left(6 \\, s + 1\\right)} + 6\\right)} \\beta - 6$$"
      ],
      "text/plain": [
       "beta^3 - (alpha^2*(6*s + 1) + 6)*beta - 6"
      ]
     },
     "execution_count": 6,
     "metadata": {},
     "output_type": "execute_result"
    }
   ],
   "source": [
    "Gamma(*v)(*stab)"
   ]
  },
  {
   "cell_type": "markdown",
   "metadata": {},
   "source": [
    "Parametrization for $\\Theta^{-}_v$:"
   ]
  },
  {
   "cell_type": "code",
   "execution_count": 7,
   "metadata": {},
   "outputs": [
    {
     "data": {
      "text/html": [
       "<html><script type=\"math/tex; mode=display\">\\newcommand{\\Bold}[1]{\\mathbf{#1}}\\left(\\sqrt{2} \\sinh\\left(t\\right), -\\sqrt{2} \\cosh\\left(t\\right)\\right)</script></html>"
      ],
      "text/latex": [
       "$$\\newcommand{\\Bold}[1]{\\mathbf{#1}}\\left(\\sqrt{2} \\sinh\\left(t\\right), -\\sqrt{2} \\cosh\\left(t\\right)\\right)$$"
      ],
      "text/plain": [
       "(sqrt(2)*sinh(t), -sqrt(2)*cosh(t))"
      ]
     },
     "execution_count": 7,
     "metadata": {},
     "output_type": "execute_result"
    }
   ],
   "source": [
    "var(\"t\")\n",
    "Theta_minus_param(t,*v)"
   ]
  },
  {
   "cell_type": "code",
   "execution_count": 51,
   "metadata": {},
   "outputs": [
    {
     "data": {
      "application/vnd.jupyter.widget-view+json": {
       "model_id": "05b85792740c4595b8f138f6fdb33fb9",
       "version_major": 2,
       "version_minor": 0
      },
      "text/plain": [
       "interactive(children=(IntSlider(value=1, description='v0', max=3, min=-1), IntSlider(value=0, description='v1'…"
      ]
     },
     "metadata": {},
     "output_type": "display_data"
    },
    {
     "data": {
      "text/html": [
       "<html><script type=\"math/tex; mode=display\">\\newcommand{\\Bold}[1]{\\mathbf{#1}}\\verb|<function|\\phantom{\\verb!x!}\\verb|plot_func|\\phantom{\\verb!x!}\\verb|at|\\phantom{\\verb!x!}\\verb|0x6ffe76ed8290>|</script></html>"
      ],
      "text/latex": [
       "$$\\newcommand{\\Bold}[1]{\\mathbf{#1}}\\verb|<function|\\phantom{\\verb!x!}\\verb|plot_func|\\phantom{\\verb!x!}\\verb|at|\\phantom{\\verb!x!}\\verb|0x6ffe76ed8290>|$$"
      ],
      "text/plain": [
       "<function plot_func at 0x6ffe76ed8290>"
      ]
     },
     "execution_count": 51,
     "metadata": {},
     "output_type": "execute_result"
    }
   ],
   "source": [
    "def plot_func(v0=1, v1=0, v2=-1, v3=1, plot_range=5):\n",
    "    v = v0,v1,v2,v3\n",
    "    var(\"alpha beta\")\n",
    "    s=1/3\n",
    "    print(f\"Q tilt on v={v}: {Q_tilt(*v)}\")\n",
    "    stab = alpha, beta, s\n",
    "    mu_v = mu(*v)\n",
    "    \n",
    "    \n",
    "    \n",
    "    \n",
    "    return (\n",
    "        # Gamma curve\n",
    "        implicit_plot(\n",
    "          Gamma(*v)(*stab),\n",
    "          (beta, mu_v - plot_range, mu_v + plot_range),\n",
    "          (alpha, 0, plot_range),\n",
    "          legend_label=\"Gamma\",\n",
    "          rgbcolor=\"green\"\n",
    "        )\n",
    "        # beta = mu vertical line\n",
    "        + line([(mu_v,0),(mu_v,plot_range)], rgbcolor=(1, 0, 0), legend_label=\"$\\\\beta=\\\\mu$\")\n",
    "        # Theta curve\n",
    "        + implicit_plot(\n",
    "          Theta(*v)(*stab),\n",
    "          (beta, mu_v-plot_range, mu_v+plot_range),\n",
    "          (alpha, 0, plot_range)\n",
    "        )\n",
    "        # Intersection point of the Gamma and Theta curves\n",
    "#         + sum((\n",
    "#             text(f\"{(beta,alpha)}\",(beta,alpha)) for alpha, beta in\n",
    "#             (\n",
    "#                 (alpha, beta) for alpha, beta in\n",
    "#                 map(\n",
    "#                     # Unpack list of symbolic expressions like [alpha==1,beta==2]\n",
    "#                     # to just a tuple of values like (1,2)\n",
    "#                     lambda res: (res[0].rhs(), res[1].rhs()),\n",
    "#                     # All intersection points of the Gamma an Theta curve\n",
    "#                     solve([Gamma(*v)(*stab)==0,Theta(*v)(*stab)==0],alpha,beta)\n",
    "#                 )\n",
    "#                 # Filter (alpha,beta) intersection points which are actually on\n",
    "#                 # the plot\n",
    "#                 if alpha.imag()==0 and beta.imag()==0 and alpha>=0\n",
    "#             )\n",
    "#         ))\n",
    "    )\n",
    "\n",
    "interact(plot_func)"
   ]
  },
  {
   "cell_type": "code",
   "execution_count": 50,
   "metadata": {},
   "outputs": [
    {
     "name": "stdout",
     "output_type": "stream",
     "text": [
      "0.2829908393166625 -1.442249593306995\n"
     ]
    }
   ],
   "source": [
    "v = 1,0,-1,1\n",
    "var(\"alpha beta\")\n",
    "stab = alpha, beta, 1/3\n",
    "\n",
    "for alpha, beta in filter(\n",
    "    lambda stab: stab[0].imag()==0 and stab[1].imag()==0 and stab[0]>=0,\n",
    "    map(\n",
    "        lambda aoeu: (aoeu[0].rhs(), aoeu[1].rhs()),\n",
    "        solve([Gamma(*v)(*stab)==0,Theta(*v)(*stab)==0],alpha,beta)\n",
    "    )\n",
    "):\n",
    "    print(alpha,beta)"
   ]
  },
  {
   "cell_type": "code",
   "execution_count": 68,
   "metadata": {},
   "outputs": [
    {
     "ename": "SyntaxError",
     "evalue": "keyword can't be an expression (<ipython-input-68-3098150f123d>, line 8)",
     "output_type": "error",
     "traceback": [
      "\u001b[0;36m  File \u001b[0;32m\"<ipython-input-68-3098150f123d>\"\u001b[0;36m, line \u001b[0;32m8\u001b[0m\n\u001b[0;31m    pretty_print(expression.subs(exp(t) = A))\u001b[0m\n\u001b[0m                                ^\u001b[0m\n\u001b[0;31mSyntaxError\u001b[0m\u001b[0;31m:\u001b[0m keyword can't be an expression\n"
     ]
    }
   ],
   "source": [
    "v = 1,0,-1,1\n",
    "var(\"alpha beta t\")\n",
    "s = 1/3\n",
    "var(\"A\")\n",
    "stab = alpha, beta, s\n",
    "expression = Gamma(*v)(*Theta_minus_param(t,*v),s)\n",
    "pretty_print(expression)\n",
    "pretty_print(expression.subs(exp(t) = A))\n",
    "plot(expression,t).show()\n",
    "print(\"helo\")"
   ]
  },
  {
   "cell_type": "code",
   "execution_count": 59,
   "metadata": {},
   "outputs": [
    {
     "data": {
      "text/html": [
       "<html><script type=\"math/tex; mode=display\">\\newcommand{\\Bold}[1]{\\mathbf{#1}}\\left[t = \\operatorname{arcosh}\\left(-\\frac{1}{2} i \\, \\sqrt{3} \\left(\\frac{1}{2}\\right)^{\\frac{1}{3}} \\left(-\\sqrt{2}\\right)^{\\frac{1}{3}} + \\frac{i \\, \\sqrt{3} \\left(\\frac{1}{2}\\right)^{\\frac{2}{3}}}{\\left(-\\sqrt{2}\\right)^{\\frac{1}{3}}} - \\frac{1}{2} \\, \\left(\\frac{1}{2}\\right)^{\\frac{1}{3}} \\left(-\\sqrt{2}\\right)^{\\frac{1}{3}} - \\frac{\\left(\\frac{1}{2}\\right)^{\\frac{2}{3}}}{\\left(-\\sqrt{2}\\right)^{\\frac{1}{3}}}\\right), t = \\operatorname{arcosh}\\left(\\frac{1}{2} i \\, \\sqrt{3} \\left(\\frac{1}{2}\\right)^{\\frac{1}{3}} \\left(-\\sqrt{2}\\right)^{\\frac{1}{3}} - \\frac{i \\, \\sqrt{3} \\left(\\frac{1}{2}\\right)^{\\frac{2}{3}}}{\\left(-\\sqrt{2}\\right)^{\\frac{1}{3}}} - \\frac{1}{2} \\, \\left(\\frac{1}{2}\\right)^{\\frac{1}{3}} \\left(-\\sqrt{2}\\right)^{\\frac{1}{3}} - \\frac{\\left(\\frac{1}{2}\\right)^{\\frac{2}{3}}}{\\left(-\\sqrt{2}\\right)^{\\frac{1}{3}}}\\right), t = \\operatorname{arcosh}\\left(\\left(\\frac{1}{2}\\right)^{\\frac{1}{3}} \\left(-\\sqrt{2}\\right)^{\\frac{1}{3}} + \\frac{2 \\, \\left(\\frac{1}{2}\\right)^{\\frac{2}{3}}}{\\left(-\\sqrt{2}\\right)^{\\frac{1}{3}}}\\right)\\right]</script></html>"
      ],
      "text/latex": [
       "$$\\newcommand{\\Bold}[1]{\\mathbf{#1}}\\left[t = \\operatorname{arcosh}\\left(-\\frac{1}{2} i \\, \\sqrt{3} \\left(\\frac{1}{2}\\right)^{\\frac{1}{3}} \\left(-\\sqrt{2}\\right)^{\\frac{1}{3}} + \\frac{i \\, \\sqrt{3} \\left(\\frac{1}{2}\\right)^{\\frac{2}{3}}}{\\left(-\\sqrt{2}\\right)^{\\frac{1}{3}}} - \\frac{1}{2} \\, \\left(\\frac{1}{2}\\right)^{\\frac{1}{3}} \\left(-\\sqrt{2}\\right)^{\\frac{1}{3}} - \\frac{\\left(\\frac{1}{2}\\right)^{\\frac{2}{3}}}{\\left(-\\sqrt{2}\\right)^{\\frac{1}{3}}}\\right), t = \\operatorname{arcosh}\\left(\\frac{1}{2} i \\, \\sqrt{3} \\left(\\frac{1}{2}\\right)^{\\frac{1}{3}} \\left(-\\sqrt{2}\\right)^{\\frac{1}{3}} - \\frac{i \\, \\sqrt{3} \\left(\\frac{1}{2}\\right)^{\\frac{2}{3}}}{\\left(-\\sqrt{2}\\right)^{\\frac{1}{3}}} - \\frac{1}{2} \\, \\left(\\frac{1}{2}\\right)^{\\frac{1}{3}} \\left(-\\sqrt{2}\\right)^{\\frac{1}{3}} - \\frac{\\left(\\frac{1}{2}\\right)^{\\frac{2}{3}}}{\\left(-\\sqrt{2}\\right)^{\\frac{1}{3}}}\\right), t = \\operatorname{arcosh}\\left(\\left(\\frac{1}{2}\\right)^{\\frac{1}{3}} \\left(-\\sqrt{2}\\right)^{\\frac{1}{3}} + \\frac{2 \\, \\left(\\frac{1}{2}\\right)^{\\frac{2}{3}}}{\\left(-\\sqrt{2}\\right)^{\\frac{1}{3}}}\\right)\\right]$$"
      ],
      "text/plain": [
       "[t == arccosh(-1/2*I*sqrt(3)*(1/2)^(1/3)*(-sqrt(2))^(1/3) + I*sqrt(3)*(1/2)^(2/3)/(-sqrt(2))^(1/3) - 1/2*(1/2)^(1/3)*(-sqrt(2))^(1/3) - (1/2)^(2/3)/(-sqrt(2))^(1/3)), t == arccosh(1/2*I*sqrt(3)*(1/2)^(1/3)*(-sqrt(2))^(1/3) - I*sqrt(3)*(1/2)^(2/3)/(-sqrt(2))^(1/3) - 1/2*(1/2)^(1/3)*(-sqrt(2))^(1/3) - (1/2)^(2/3)/(-sqrt(2))^(1/3)), t == arccosh((1/2)^(1/3)*(-sqrt(2))^(1/3) + 2*(1/2)^(2/3)/(-sqrt(2))^(1/3))]"
      ]
     },
     "execution_count": 59,
     "metadata": {},
     "output_type": "execute_result"
    }
   ],
   "source": [
    "res = solve(expression,t)\n",
    "res"
   ]
  },
  {
   "cell_type": "code",
   "execution_count": 63,
   "metadata": {},
   "outputs": [
    {
     "data": {
      "text/html": [
       "<html><script type=\"math/tex; mode=display\">\\newcommand{\\Bold}[1]{\\mathbf{#1}}\\arctan\\left(0, -\\sqrt{-\\frac{1}{4} i \\, \\sqrt{3} 2^{\\frac{5}{6}} \\left(-1\\right)^{\\frac{1}{3}} - \\frac{1}{2} i \\, \\sqrt{3} 2^{\\frac{1}{6}} \\left(-1\\right)^{\\frac{2}{3}} + \\frac{1}{4} \\cdot 2^{\\frac{5}{6}} \\left(-1\\right)^{\\frac{1}{3}} - \\frac{1}{2} \\cdot 2^{\\frac{1}{6}} \\left(-1\\right)^{\\frac{2}{3}} + 1} \\sqrt{-\\frac{1}{4} i \\, \\sqrt{3} 2^{\\frac{5}{6}} \\left(-1\\right)^{\\frac{1}{3}} - \\frac{1}{2} i \\, \\sqrt{3} 2^{\\frac{1}{6}} \\left(-1\\right)^{\\frac{2}{3}} + \\frac{1}{4} \\cdot 2^{\\frac{5}{6}} \\left(-1\\right)^{\\frac{1}{3}} - \\frac{1}{2} \\cdot 2^{\\frac{1}{6}} \\left(-1\\right)^{\\frac{2}{3}} - 1} - \\frac{1}{2} \\cdot 2^{\\frac{5}{6}} - 2^{\\frac{1}{6}}\\right)</script></html>"
      ],
      "text/latex": [
       "$$\\newcommand{\\Bold}[1]{\\mathbf{#1}}\\arctan\\left(0, -\\sqrt{-\\frac{1}{4} i \\, \\sqrt{3} 2^{\\frac{5}{6}} \\left(-1\\right)^{\\frac{1}{3}} - \\frac{1}{2} i \\, \\sqrt{3} 2^{\\frac{1}{6}} \\left(-1\\right)^{\\frac{2}{3}} + \\frac{1}{4} \\cdot 2^{\\frac{5}{6}} \\left(-1\\right)^{\\frac{1}{3}} - \\frac{1}{2} \\cdot 2^{\\frac{1}{6}} \\left(-1\\right)^{\\frac{2}{3}} + 1} \\sqrt{-\\frac{1}{4} i \\, \\sqrt{3} 2^{\\frac{5}{6}} \\left(-1\\right)^{\\frac{1}{3}} - \\frac{1}{2} i \\, \\sqrt{3} 2^{\\frac{1}{6}} \\left(-1\\right)^{\\frac{2}{3}} + \\frac{1}{4} \\cdot 2^{\\frac{5}{6}} \\left(-1\\right)^{\\frac{1}{3}} - \\frac{1}{2} \\cdot 2^{\\frac{1}{6}} \\left(-1\\right)^{\\frac{2}{3}} - 1} - \\frac{1}{2} \\cdot 2^{\\frac{5}{6}} - 2^{\\frac{1}{6}}\\right)$$"
      ],
      "text/plain": [
       "arctan2(0, -sqrt(-1/4*I*sqrt(3)*2^(5/6)*(-1)^(1/3) - 1/2*I*sqrt(3)*2^(1/6)*(-1)^(2/3) + 1/4*2^(5/6)*(-1)^(1/3) - 1/2*2^(1/6)*(-1)^(2/3) + 1)*sqrt(-1/4*I*sqrt(3)*2^(5/6)*(-1)^(1/3) - 1/2*I*sqrt(3)*2^(1/6)*(-1)^(2/3) + 1/4*2^(5/6)*(-1)^(1/3) - 1/2*2^(1/6)*(-1)^(2/3) - 1) - 1/2*2^(5/6) - 2^(1/6))"
      ]
     },
     "execution_count": 63,
     "metadata": {},
     "output_type": "execute_result"
    }
   ],
   "source": [
    "simplify(res[1].rhs().imag())"
   ]
  },
  {
   "cell_type": "code",
   "execution_count": null,
   "metadata": {},
   "outputs": [],
   "source": []
  }
 ],
 "metadata": {
  "kernelspec": {
   "display_name": "SageMath 9.3",
   "language": "sage",
   "name": "sagemath"
  },
  "language_info": {
   "codemirror_mode": {
    "name": "ipython",
    "version": 3
   },
   "file_extension": ".py",
   "mimetype": "text/x-python",
   "name": "python",
   "nbconvert_exporter": "python",
   "pygments_lexer": "ipython3",
   "version": "3.7.10"
  }
 },
 "nbformat": 4,
 "nbformat_minor": 4
}
